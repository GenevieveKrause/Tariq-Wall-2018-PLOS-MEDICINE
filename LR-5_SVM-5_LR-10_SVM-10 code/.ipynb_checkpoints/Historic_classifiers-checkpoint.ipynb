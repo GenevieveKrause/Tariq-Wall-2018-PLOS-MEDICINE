{
 "cells": [
  {
   "cell_type": "markdown",
   "metadata": {},
   "source": [
    "# Tester for the Sebastien\n",
    "\n",
    "** Please use python3 to run this code and install all packages that the classifier depends on**"
   ]
  },
  {
   "cell_type": "code",
   "execution_count": null,
   "metadata": {},
   "outputs": [],
   "source": [
    "__authoroftheclassifier__ = 'Sebastien Levy'\n",
    "__authorofthetesterfile__ = 'Khaled Jedoui'\n",
    "\n",
    "from processing import ADOS_Data\n",
    "from cross_validation import CVP_Set\n",
    "from sklearn.linear_model import LinearRegression, LogisticRegression, Ridge\n",
    "from sklearn.svm import LinearSVC\n",
    "from sklearn.discriminant_analysis import LinearDiscriminantAnalysis as LDA\n",
    "from classifiers import RegClassifier, BinClassifier\n",
    "from sklearn.metrics import roc_auc_score, average_precision_score, classification_report, confusion_matrix, precision_recall_curve, auc\n",
    "\n",
    "import matplotlib.pyplot as plt\n",
    "import pandas as pd"
   ]
  },
  {
   "cell_type": "code",
   "execution_count": null,
   "metadata": {
    "collapsed": true
   },
   "outputs": [],
   "source": [
    "def test_func(pred_score, predlabels):\n",
    "    y_true = predlabels\n",
    "    print('Confusion matrix:')\n",
    "    cm = confusion_matrix([1-x for x in y_true], [1-int(x > 0.5) for x in pred_score])\n",
    "    print(cm)\n",
    "    print('Precision: {}'.format(float(cm[0][0])/(cm[0][0]+cm[1][0])))\n",
    "    print('Recall/Sensitivity: {}'.format(float(cm[0][0])/(cm[0][0]+cm[0][1])))\n",
    "    print('Specificity: {}'.format(float(cm[1][1])/(cm[1][1]+cm[1][0])))\n",
    "    print ('class report')\n",
    "    print (classification_report([1-x for x in y_true], [1-int(x > 0.5) for x in pred_score]))"
   ]
  },
  {
   "cell_type": "markdown",
   "metadata": {},
   "source": [
    "# M3 training"
   ]
  },
  {
   "cell_type": "code",
   "execution_count": null,
   "metadata": {
    "collapsed": true
   },
   "outputs": [],
   "source": [
    "MODULE = 'm3'\n",
    "FEATURE_SET = ['A2', 'A4', 'A8', 'B3_miss', 'B2', 'B7', 'B8', 'D4', 'D3_miss', 'male']\n",
    "N_FOLD = 10\n",
    "PRED_RATIO = 0.2\n",
    "SCALING_PARAM = 4\n",
    "# Binary or Replacement\n",
    "MISSING_VALUE_STRATEGY = 'Binary'\n",
    "# poly, linear, indicator, interaction_ind, pca_comp\n",
    "PROCESSING_STRATEGY = 'linear'\n",
    "\n",
    "POLY_DEGREE = 2\n",
    "NORMALIZE = True\n",
    "\n",
    "ADOS_FILE = MODULE+\"/data/ados_\"+MODULE+\"_allData.csv\"\n",
    "label_id = \"ASD\"\n",
    "label_age = \"age_months\"\n",
    "label_gender = \"male\"\n",
    "columns_to_delete = [\"Subject.Id\", \"Diagnosis\"]\n",
    "sub_diagnosis_id = [\"social_affect_calc\",\"restricted_repetitive_calc\",\"SA_RRI_total_calc\",\"severity_calc\"]"
   ]
  },
  {
   "cell_type": "code",
   "execution_count": null,
   "metadata": {},
   "outputs": [],
   "source": [
    "# We import the data\n",
    "data = ADOS_Data.read_csv(ADOS_FILE)\n",
    "sub_diagnosis = data[sub_diagnosis_id]\n",
    "\n",
    "# We drop the columns that are not interesting for us, and the row with no label\n",
    "data.select_good_columns(columns_to_delete+sub_diagnosis_id)\n",
    "\n",
    "print('gendering')\n",
    "print((data[data['ASD'] == 1][['male']]).sum())\n",
    "\n",
    "data.full_preprocessing(NORMALIZE, MISSING_VALUE_STRATEGY, PROCESSING_STRATEGY, [label_age], label_gender, label_id)\n",
    "if FEATURE_SET != []:\n",
    "    data.select_good_columns(FEATURE_SET, keep_the_column=True)\n",
    "    \n",
    "cv_set = CVP_Set(data, data.labels, N_FOLD, PRED_RATIO)"
   ]
  },
  {
   "cell_type": "markdown",
   "metadata": {},
   "source": [
    "## LR training"
   ]
  },
  {
   "cell_type": "code",
   "execution_count": null,
   "metadata": {
    "collapsed": true
   },
   "outputs": [],
   "source": [
    "lr = BinClassifier(proc=LogisticRegression(C=1, penalty='l2',class_weight='balanced'), severity=False)\n",
    "lr.fit(cv_set.cv_feat, cv_set.cv_labels)"
   ]
  },
  {
   "cell_type": "markdown",
   "metadata": {},
   "source": [
    "## SVM training"
   ]
  },
  {
   "cell_type": "code",
   "execution_count": null,
   "metadata": {
    "collapsed": true
   },
   "outputs": [],
   "source": [
    "svc = BinClassifier(proc = LinearSVC(penalty = 'l1', dual = False, C = .5), severity = False)\n",
    "svc.fit(cv_set.cv_feat, cv_set.cv_labels)"
   ]
  },
  {
   "cell_type": "markdown",
   "metadata": {
    "collapsed": true
   },
   "source": [
    "## M3 testing\n",
    "\n",
    "** For the m3 testing: **\n",
    " - Note that there are 3 datasets:\n",
    "     - for_new_classifier_19.csv : Where B8 is question 19.\n",
    "     - for_new_classifier_21.csv : Where B8 is question 21.\n",
    "     - for_new_classifier_22.csv : Where B8 is question 22.\n",
    "     - for_new_classifier_average.csv : Where B8 is the average (rounded) for questions 19, 21 and 22."
   ]
  },
  {
   "cell_type": "code",
   "execution_count": null,
   "metadata": {},
   "outputs": [],
   "source": [
    "FILENAME = \"M3_videos_LR3.csv\"\n",
    "columns_to_delete = ['child_id', 'scorer_id', 'video_file']\n",
    "pred_feat = ADOS_Data.read_csv(FILENAME)\n",
    "ytrue = pred_feat[\"ASD\"]\n",
    "# We drop the columns that are not interesting for us, and the row with no label\n",
    "pred_feat.select_good_columns(columns_to_delete)\n",
    "\n",
    "pred_feat.full_preprocessing(NORMALIZE, MISSING_VALUE_STRATEGY, PROCESSING_STRATEGY, [label_age], label_gender, label_id)\n",
    "FEATURE_SET = ['A2', 'A4', 'A8', 'B3', 'B2', 'B7', 'B8', 'D4', 'D3', 'male']\n",
    "if FEATURE_SET != []:\n",
    "    pred_feat.select_good_columns(FEATURE_SET, keep_the_column=True)"
   ]
  },
  {
   "cell_type": "markdown",
   "metadata": {},
   "source": [
    "### Logistic regression"
   ]
  },
  {
   "cell_type": "code",
   "execution_count": null,
   "metadata": {},
   "outputs": [],
   "source": [
    "lr_score = [x[1] for x in lr.predict_proba(pred_feat)]\n",
    "test_func(list(lr.predict(pred_feat)), ytrue)"
   ]
  },
  {
   "cell_type": "code",
   "execution_count": null,
   "metadata": {},
   "outputs": [],
   "source": [
    "print(\"---Printing probabilities---\")\n",
    "LogisticProbabilities = (lr.predict_proba(pred_feat))\n",
    "for line in LogisticProbabilities:\n",
    "    print(line)\n",
    "print(\"---End of Printing Probabilities---\")"
   ]
  },
  {
   "cell_type": "code",
   "execution_count": null,
   "metadata": {},
   "outputs": [],
   "source": [
    "print(list(lr.predict(pred_feat)))"
   ]
  },
  {
   "cell_type": "code",
   "execution_count": null,
   "metadata": {
    "collapsed": true
   },
   "outputs": [],
   "source": [
    "l = list(zip(LogisticProbabilities, list(lr.predict(pred_feat))))\n",
    "with open('M3_videos_LR_L2_3.csv', 'w') as f:\n",
    "    for i in range(len(l)):\n",
    "        f.write(str(l[i])+'\\n')"
   ]
  },
  {
   "cell_type": "markdown",
   "metadata": {},
   "source": [
    "### SVM"
   ]
  },
  {
   "cell_type": "code",
   "execution_count": null,
   "metadata": {},
   "outputs": [],
   "source": [
    "test_func(list(svc.predict(pred_feat)), ytrue)"
   ]
  },
  {
   "cell_type": "code",
   "execution_count": null,
   "metadata": {},
   "outputs": [],
   "source": [
    "print(\"---Printing probabilities---\")\n",
    "LogisticProbabilities = (svc.predict_proba(pred_feat))\n",
    "for line in LogisticProbabilities:\n",
    "    print(line)\n",
    "print(\"---End of Printing Probabilities---\")"
   ]
  },
  {
   "cell_type": "code",
   "execution_count": null,
   "metadata": {},
   "outputs": [],
   "source": [
    "print(list(svc.predict(pred_feat)))"
   ]
  },
  {
   "cell_type": "code",
   "execution_count": null,
   "metadata": {
    "collapsed": true
   },
   "outputs": [],
   "source": [
    "l = list(zip(LogisticProbabilities, list(svc.predict(pred_feat))))\n",
    "with open('M3_videos_SVM_3.csv', 'w') as f:\n",
    "    for i in range(len(l)):\n",
    "        f.write(str(l[i])+'\\n')"
   ]
  },
  {
   "cell_type": "markdown",
   "metadata": {},
   "source": [
    "# M2 training"
   ]
  },
  {
   "cell_type": "code",
   "execution_count": null,
   "metadata": {
    "collapsed": true
   },
   "outputs": [],
   "source": [
    "MODULE = 'm2'\n",
    "\n",
    "FEATURE_SET = ['A3', 'A5', 'B1', 'B2', 'B10']\n",
    "\n",
    "N_FOLD = 10\n",
    "PRED_RATIO = 0.2\n",
    "SCALING_PARAM = 4\n",
    "# Binary or Replacement\n",
    "MISSING_VALUE_STRATEGY = 'Binary'\n",
    "# poly, linear, indicator, interaction_ind, pca_comp\n",
    "PROCESSING_STRATEGY = 'linear'\n",
    "\n",
    "POLY_DEGREE = 2\n",
    "NORMALIZE = True\n",
    "\n",
    "ADOS_FILE = MODULE+\"/data/ados_\"+MODULE+\"_allData.csv\"\n",
    "label_id = \"ASD\"\n",
    "label_age = \"age_months\"\n",
    "label_gender = \"male\"\n",
    "columns_to_delete = [\"Subject.Id\", \"Diagnosis\"]\n",
    "sub_diagnosis_id = [\"social_affect_calc\",\"restricted_repetitive_calc\",\"SA_RRI_total_calc\",\"severity_calc\"]"
   ]
  },
  {
   "cell_type": "code",
   "execution_count": null,
   "metadata": {},
   "outputs": [],
   "source": [
    "# We import the data\n",
    "data = ADOS_Data.read_csv(ADOS_FILE)\n",
    "sub_diagnosis = data[sub_diagnosis_id]\n",
    "\n",
    "# We drop the columns that are not interesting for us, and the row with no label\n",
    "data.select_good_columns(columns_to_delete+sub_diagnosis_id)\n",
    "\n",
    "print('gendering')\n",
    "print((data[data['ASD'] == 1][['male']]).sum())\n",
    "\n",
    "data.full_preprocessing(NORMALIZE, MISSING_VALUE_STRATEGY, PROCESSING_STRATEGY, [label_age], label_gender, label_id)\n",
    "if FEATURE_SET != []:\n",
    "    data.select_good_columns(FEATURE_SET, keep_the_column=True)\n",
    "    \n",
    "cv_set = CVP_Set(data, data.labels, N_FOLD, PRED_RATIO)"
   ]
  },
  {
   "cell_type": "markdown",
   "metadata": {},
   "source": [
    "## LDA Training "
   ]
  },
  {
   "cell_type": "code",
   "execution_count": null,
   "metadata": {},
   "outputs": [],
   "source": [
    "ld = BinClassifier(proc=LDA(shrinkage=0.8, priors=(0.029,0.931), solver=\"lsqr\"), severity=False)\n",
    "ld.fit(cv_set.cv_feat, cv_set.cv_labels)\n",
    "ld_score = [x[1] for x in ld.predict_proba(cv_set.pred_feat)]"
   ]
  },
  {
   "cell_type": "markdown",
   "metadata": {},
   "source": [
    "## LR training"
   ]
  },
  {
   "cell_type": "code",
   "execution_count": null,
   "metadata": {
    "collapsed": true
   },
   "outputs": [],
   "source": [
    "lr = BinClassifier(proc=LogisticRegression(C=0.05, penalty='l2',class_weight='balanced'), severity=False)\n",
    "lr.fit(cv_set.cv_feat, cv_set.cv_labels)"
   ]
  },
  {
   "cell_type": "markdown",
   "metadata": {},
   "source": [
    "## SVM training"
   ]
  },
  {
   "cell_type": "code",
   "execution_count": null,
   "metadata": {
    "collapsed": true
   },
   "outputs": [],
   "source": [
    "svc = BinClassifier(proc = LinearSVC(penalty = 'l1', dual = False, C = .5), severity = False)\n",
    "svc.fit(cv_set.cv_feat, cv_set.cv_labels)"
   ]
  },
  {
   "cell_type": "markdown",
   "metadata": {},
   "source": [
    "# M2 testing"
   ]
  },
  {
   "cell_type": "code",
   "execution_count": null,
   "metadata": {},
   "outputs": [],
   "source": [
    "FILENAME = \"M3_videos_LR2.csv\"\n",
    "columns_to_delete = ['child_id','scorer_id','video_file'\n",
    "]\n",
    "pred_feat = ADOS_Data.read_csv(FILENAME)\n",
    "ytrue = pred_feat[\"ASD\"]\n",
    "# We drop the columns that are not interesting for us, and the row with no label\n",
    "pred_feat.select_good_columns(columns_to_delete)\n",
    "\n",
    "pred_feat.full_preprocessing(NORMALIZE, MISSING_VALUE_STRATEGY, PROCESSING_STRATEGY, [label_age], label_gender, label_id)\n",
    "if FEATURE_SET != []:\n",
    "    pred_feat.select_good_columns(FEATURE_SET, keep_the_column=True)"
   ]
  },
  {
   "cell_type": "markdown",
   "metadata": {},
   "source": [
    "## Logistic Regression"
   ]
  },
  {
   "cell_type": "code",
   "execution_count": null,
   "metadata": {},
   "outputs": [],
   "source": [
    "test_func(list(lr.predict(pred_feat)), ytrue)"
   ]
  },
  {
   "cell_type": "code",
   "execution_count": null,
   "metadata": {},
   "outputs": [],
   "source": [
    "print(\"---Printing probabilities---\")\n",
    "LogisticProbabilities = (lr.predict_proba(pred_feat))\n",
    "for line in LogisticProbabilities:\n",
    "    print(line)\n",
    "print(\"---End of Printing Probabilities---\")"
   ]
  },
  {
   "cell_type": "code",
   "execution_count": null,
   "metadata": {},
   "outputs": [],
   "source": [
    "print(list(lr.predict(pred_feat)))"
   ]
  },
  {
   "cell_type": "code",
   "execution_count": null,
   "metadata": {
    "collapsed": true
   },
   "outputs": [],
   "source": [
    "l = list(zip(LogisticProbabilities, list(lr.predict(pred_feat))))\n",
    "with open('M3_videos_LR_L2_2.csv', 'w') as f:\n",
    "    for i in range(len(l)):\n",
    "        f.write(str(l[i])+'\\n')"
   ]
  },
  {
   "cell_type": "markdown",
   "metadata": {},
   "source": [
    "## SVM"
   ]
  },
  {
   "cell_type": "code",
   "execution_count": null,
   "metadata": {},
   "outputs": [],
   "source": [
    "test_func(list(svc.predict(pred_feat)), ytrue)"
   ]
  },
  {
   "cell_type": "code",
   "execution_count": null,
   "metadata": {},
   "outputs": [],
   "source": [
    "print(\"---Printing probabilities---\")\n",
    "LogisticProbabilities = (svc.predict_proba(pred_feat))\n",
    "for line in LogisticProbabilities:\n",
    "    print(line)\n",
    "print(\"---End of Printing Probabilities---\")"
   ]
  },
  {
   "cell_type": "code",
   "execution_count": null,
   "metadata": {},
   "outputs": [],
   "source": [
    "print(list(svc.predict(pred_feat)))"
   ]
  },
  {
   "cell_type": "code",
   "execution_count": null,
   "metadata": {
    "collapsed": true
   },
   "outputs": [],
   "source": [
    "l = list(zip(LogisticProbabilities, list(svc.predict(pred_feat))))\n",
    "with open('M3_videos_SVM_2.csv', 'w') as f:\n",
    "    for i in range(len(l)):\n",
    "        f.write(str(l[i])+'\\n')"
   ]
  },
  {
   "cell_type": "markdown",
   "metadata": {},
   "source": [
    "## LDA"
   ]
  },
  {
   "cell_type": "code",
   "execution_count": null,
   "metadata": {
    "collapsed": true
   },
   "outputs": [],
   "source": [
    "test_func(list(ld.predict(pred_feat)), ytrue)"
   ]
  },
  {
   "cell_type": "code",
   "execution_count": null,
   "metadata": {
    "collapsed": true
   },
   "outputs": [],
   "source": [
    "print(\"---Printing probabilities---\")\n",
    "LogisticProbabilities = (ld.predict_proba(pred_feat))\n",
    "for line in LogisticProbabilities:\n",
    "    print(line)\n",
    "print(\"---End of Printing Probabilities---\")"
   ]
  },
  {
   "cell_type": "code",
   "execution_count": null,
   "metadata": {
    "collapsed": true
   },
   "outputs": [],
   "source": [
    "print(list(ld.predict(pred_feat)))"
   ]
  },
  {
   "cell_type": "code",
   "execution_count": null,
   "metadata": {
    "collapsed": true
   },
   "outputs": [],
   "source": []
  },
  {
   "cell_type": "code",
   "execution_count": null,
   "metadata": {
    "collapsed": true
   },
   "outputs": [],
   "source": []
  }
 ],
 "metadata": {
  "kernelspec": {
   "display_name": "Python 3",
   "language": "python",
   "name": "python3"
  },
  "language_info": {
   "codemirror_mode": {
    "name": "ipython",
    "version": 3
   },
   "file_extension": ".py",
   "mimetype": "text/x-python",
   "name": "python",
   "nbconvert_exporter": "python",
   "pygments_lexer": "ipython3",
   "version": "3.6.1"
  }
 },
 "nbformat": 4,
 "nbformat_minor": 2
}
